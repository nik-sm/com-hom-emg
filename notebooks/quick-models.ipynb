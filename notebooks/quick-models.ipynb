{
 "cells": [
  {
   "cell_type": "code",
   "execution_count": null,
   "metadata": {},
   "outputs": [],
   "source": [
    "# A quick look at the performance on each subject's features in isolation\n",
    "# This gives us a sense if any of the subjects are an extreme outlier"
   ]
  },
  {
   "cell_type": "code",
   "execution_count": 52,
   "metadata": {},
   "outputs": [],
   "source": [
    "from com_hom_emg.data import get_per_subj_data\n",
    "from sklearn.linear_model import LogisticRegression as LogR\n",
    "from sklearn.discriminant_analysis import LinearDiscriminantAnalysis as LDA\n",
    "from com_hom_emg.parallel_models import ParallelA\n",
    "from sklearn.model_selection import cross_validate, GroupKFold\n",
    "from sklearn.metrics import make_scorer\n",
    "import numpy as np\n",
    "from sklearn.pipeline import make_pipeline\n",
    "from sklearn.preprocessing import StandardScaler\n",
    "from sklearn.decomposition import PCA"
   ]
  },
  {
   "cell_type": "code",
   "execution_count": 53,
   "metadata": {},
   "outputs": [],
   "source": [
    "def acc_2d(y_true, y_pred):\n",
    "    return (y_true == y_pred).all(-1).mean()\n",
    "\n",
    "\n",
    "scorer = make_scorer(acc_2d, greater_is_better=True)\n",
    "\n",
    "\n",
    "def shuffle_together(*arrays):\n",
    "    \"\"\"Shuffle arrays together\"\"\"\n",
    "    assert all(len(x) == len(arrays[0]) for x in arrays)\n",
    "    p = np.random.permutation(len(arrays[0]))\n",
    "    return [x[p] for x in arrays]"
   ]
  },
  {
   "cell_type": "code",
   "execution_count": 54,
   "metadata": {},
   "outputs": [],
   "source": [
    "per_subj_data = get_per_subj_data()"
   ]
  },
  {
   "cell_type": "code",
   "execution_count": 64,
   "metadata": {},
   "outputs": [
    {
     "name": "stdout",
     "output_type": "stream",
     "text": [
      "Subject             \tLDA raw             \tLDA scaled          \tLogR raw            \tLogR scaled         \n",
      "Sprint7_Subj_001    \t0.67 ± 0.05         \t0.67 ± 0.05         \t0.49 ± 0.03         \t0.77 ± 0.03         \n",
      "Sprint7_Subj_002    \t0.64 ± 0.04         \t0.64 ± 0.04         \t0.41 ± 0.02         \t0.66 ± 0.05         \n",
      "Sprint7_Subj_003    \t0.50 ± 0.03         \t0.50 ± 0.03         \t0.38 ± 0.03         \t0.57 ± 0.02         \n",
      "Sprint7_Subj_004    \t0.51 ± 0.04         \t0.51 ± 0.04         \t0.31 ± 0.02         \t0.57 ± 0.04         \n",
      "Sprint7_Subj_005    \t0.58 ± 0.01         \t0.58 ± 0.01         \t0.44 ± 0.03         \t0.67 ± 0.02         \n",
      "Sprint7_Subj_007    \t0.69 ± 0.02         \t0.69 ± 0.02         \t0.61 ± 0.04         \t0.78 ± 0.01         \n",
      "Sprint7_Subj_008    \t0.66 ± 0.03         \t0.66 ± 0.03         \t0.50 ± 0.03         \t0.76 ± 0.02         \n",
      "Sprint7_Subj_009    \t0.57 ± 0.03         \t0.57 ± 0.03         \t0.36 ± 0.01         \t0.66 ± 0.03         \n",
      "Sprint7_Subj_010    \t0.46 ± 0.01         \t0.46 ± 0.01         \t0.38 ± 0.02         \t0.55 ± 0.01         \n",
      "Sprint7_Subj_011    \t0.44 ± 0.02         \t0.44 ± 0.02         \t0.31 ± 0.03         \t0.51 ± 0.01         \n",
      "Sprint7_Subj_013    \t0.46 ± 0.02         \t0.46 ± 0.02         \t0.31 ± 0.02         \t0.52 ± 0.03         \n"
     ]
    }
   ],
   "source": [
    "cols = [\"Subject\", \"LDA raw\", \"LDA scaled\", \"LogR raw\", \"LogR scaled\"]\n",
    "cols = [format(x, \"20s\") for x in cols]\n",
    "header = \"\\t\".join(cols)\n",
    "P = np.random.randn(7696, 64)\n",
    "print(header)\n",
    "for subj, conts in per_subj_data.items():\n",
    "    n_folds = 5\n",
    "\n",
    "    features = []\n",
    "    labels = []\n",
    "    groups = []\n",
    "    for part in [\n",
    "        conts[\"calibration\"],\n",
    "        conts[\"held_singles\"],\n",
    "        conts[\"pulsed_singles\"],\n",
    "        conts[\"doubles\"],\n",
    "    ]:\n",
    "        x = part[\"features\"]\n",
    "        y = part[\"2d_labels\"]\n",
    "        x, y = shuffle_together(x, y)\n",
    "        features.append(x)\n",
    "        labels.append(y)\n",
    "        groups.append(np.arange(len(x)) % n_folds)\n",
    "    features = np.concatenate(features)\n",
    "    labels = np.concatenate(labels)\n",
    "    groups = np.concatenate(groups)\n",
    "\n",
    "    # Try LDA raw\n",
    "    def get_model():\n",
    "        return LDA()\n",
    "\n",
    "    model = ParallelA(get_model(), get_model())\n",
    "    stratified_scores = cross_validate(\n",
    "        model, X=features, y=labels, scoring=scorer, cv=GroupKFold(n_splits=n_folds), groups=groups, n_jobs=-1\n",
    "    )\n",
    "    lda_res_raw = f\"{stratified_scores['test_score'].mean():.2f} ± {stratified_scores['test_score'].std():.2f}\"\n",
    "\n",
    "    # Try LDA scaled\n",
    "    def get_model():\n",
    "        return make_pipeline(StandardScaler(), LDA())\n",
    "\n",
    "    model = ParallelA(get_model(), get_model())\n",
    "    stratified_scores = cross_validate(\n",
    "        model, X=features, y=labels, scoring=scorer, cv=GroupKFold(n_splits=n_folds), groups=groups, n_jobs=-1\n",
    "    )\n",
    "    lda_res_scaled = f\"{stratified_scores['test_score'].mean():.2f} ± {stratified_scores['test_score'].std():.2f}\"\n",
    "\n",
    "    # Try LogR raw\n",
    "    def get_model():\n",
    "        return LogR(class_weight=\"balanced\", n_jobs=-1)\n",
    "\n",
    "    model = ParallelA(get_model(), get_model())\n",
    "    stratified_scores = cross_validate(\n",
    "        model, X=features, y=labels, scoring=scorer, cv=GroupKFold(n_splits=n_folds), groups=groups, n_jobs=-1\n",
    "    )\n",
    "    logr_res_raw = f\"{stratified_scores['test_score'].mean():.2f} ± {stratified_scores['test_score'].std():.2f}\"\n",
    "\n",
    "    # Try LogR scaled\n",
    "    def get_model():\n",
    "        return make_pipeline(StandardScaler(), LogR(class_weight=\"balanced\", n_jobs=-1))\n",
    "\n",
    "    model = ParallelA(get_model(), get_model())\n",
    "    stratified_scores = cross_validate(\n",
    "        model, X=features, y=labels, scoring=scorer, cv=GroupKFold(n_splits=n_folds), groups=groups, n_jobs=-1\n",
    "    )\n",
    "    logr_res_scaled = f\"{stratified_scores['test_score'].mean():.2f} ± {stratified_scores['test_score'].std():.2f}\"\n",
    "    # raw_scores = cross_validate(model, X=features, y=labels, scoring=scorer, cv=5, n_jobs=-1)\n",
    "    # raw_res_str = f\"{raw_scores['test_score'].mean():.2f} ± {raw_scores['test_score'].std():.2f}\"\n",
    "    # print(f\"{subj=}, stratified_score={stratified_res_str}, raw_score={raw_res_str}\")\n",
    "\n",
    "    cols = [subj, lda_res_raw, lda_res_scaled, logr_res_raw, logr_res_scaled]\n",
    "    cols = [format(x, \"20s\") for x in cols]\n",
    "    row = \"\\t\".join(cols)\n",
    "    print(row)"
   ]
  },
  {
   "cell_type": "code",
   "execution_count": null,
   "metadata": {},
   "outputs": [],
   "source": []
  }
 ],
 "metadata": {
  "kernelspec": {
   "display_name": "venv",
   "language": "python",
   "name": "python3"
  },
  "language_info": {
   "codemirror_mode": {
    "name": "ipython",
    "version": 3
   },
   "file_extension": ".py",
   "mimetype": "text/x-python",
   "name": "python",
   "nbconvert_exporter": "python",
   "pygments_lexer": "ipython3",
   "version": "3.8.10"
  },
  "orig_nbformat": 4
 },
 "nbformat": 4,
 "nbformat_minor": 2
}
