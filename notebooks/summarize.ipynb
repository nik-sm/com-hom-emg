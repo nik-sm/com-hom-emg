{
 "cells": [
  {
   "cell_type": "code",
   "execution_count": 1,
   "metadata": {},
   "outputs": [],
   "source": [
    "import numpy as np"
   ]
  },
  {
   "cell_type": "code",
   "execution_count": 2,
   "metadata": {},
   "outputs": [],
   "source": [
    "# Results of reporting/sprint9/learned_features/run_slurm2.py\n",
    "# Collected by eye from tensorboard plots\n",
    "# (git hash: 02cf351dd64e1a0b259b3e59b120e6ea9e81a199 of gest)\n",
    "test_results = {\n",
    "    \"aug\": {\n",
    "        \"double_bal_acc_means\": np.array([0.416, 0.4103, 0.3922, 0.3652, 0.2857, 0.2735, 0.2678, 0.2574]),\n",
    "        \"single_bal_acc_means\": np.array([0.6077, 0.5334, 0.5243, 0.5227, 0.4827, 0.4446, 0.4171, 0.4105]),\n",
    "        \"overall_bal_acc_means\": np.array([0.4478, 0.4363, 0.4256, 0.4044, 0.3849, 0.3683, 0.3176, 0.3085]),\n",
    "    },\n",
    "    \"upper_bound\": {\n",
    "        \"double_bal_acc_means\": np.array([0.4505, 0.4011, 0.3981, 0.3886, 0.3824, 0.3784, 0.3500, 0.3030]),\n",
    "        \"single_bal_acc_means\": np.array([0.5222, 0.5150, 0.4905, 0.4823, 0.4564, 0.4006, 0.4004, 0.2670]),\n",
    "        \"overall_bal_acc_means\": np.array([0.4638, 0.4415, 0.4262, 0.4112, 0.3884, 0.3858, 0.3737, 0.3223]),\n",
    "    },\n",
    "}"
   ]
  },
  {
   "cell_type": "code",
   "execution_count": 3,
   "metadata": {},
   "outputs": [
    {
     "name": "stdout",
     "output_type": "stream",
     "text": [
      "Augmented\n",
      "\tSingles. mean: 0.4929 \\pm 0.0629\n",
      "\tDoubles. mean: 0.3335 \\pm 0.0644\n",
      "\tOverall. mean: 0.3867 \\pm 0.0491\n",
      "Upper bound\n",
      "\tSingles. mean: 0.4418 \\pm 0.0791\n",
      "\tDoubles. mean: 0.3815 \\pm 0.0397\n",
      "\tOverall. mean: 0.4016 \\pm 0.0413\n"
     ]
    }
   ],
   "source": [
    "for cond_name, cond_str in [(\"Augmented\", \"aug\"), (\"Upper bound\", \"upper_bound\")]:\n",
    "    print(cond_name)\n",
    "    for name, key in [\n",
    "        (\"Singles\", \"single_bal_acc_means\"),\n",
    "        (\"Doubles\", \"double_bal_acc_means\"),\n",
    "        (\"Overall\", \"overall_bal_acc_means\"),\n",
    "    ]:\n",
    "        print(f\"\\t{name}. mean: {test_results[cond_str][key].mean():.4f} \\pm {test_results[cond_str][key].std():.4f}\")"
   ]
  }
 ],
 "metadata": {
  "kernelspec": {
   "display_name": "venv",
   "language": "python",
   "name": "python3"
  },
  "language_info": {
   "codemirror_mode": {
    "name": "ipython",
    "version": 3
   },
   "file_extension": ".py",
   "mimetype": "text/x-python",
   "name": "python",
   "nbconvert_exporter": "python",
   "pygments_lexer": "ipython3",
   "version": "3.8.15"
  },
  "orig_nbformat": 4,
  "vscode": {
   "interpreter": {
    "hash": "ed301def3a39becd52647e1f4c3c5c7acdd78e3bc0b6a507be2788a9cb7b3784"
   }
  }
 },
 "nbformat": 4,
 "nbformat_minor": 2
}
